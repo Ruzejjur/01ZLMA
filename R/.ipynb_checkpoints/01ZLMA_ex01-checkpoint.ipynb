{
 "cells": [
  {
   "cell_type": "markdown",
   "metadata": {
    "colab_type": "text",
    "id": "view-in-github"
   },
   "source": [
    "<a href=\"https://colab.research.google.com/github/francji1/01ZLMA/blob/main/R/01ZLMA_ex01.ipynb\" target=\"_parent\"><img src=\"https://colab.research.google.com/assets/colab-badge.svg\" alt=\"Open In Colab\"/></a>"
   ]
  },
  {
   "cell_type": "markdown",
   "metadata": {
    "id": "x-i6MbNFm4Zt"
   },
   "source": [
    "# 01ZLMA - Exercise 01\n",
    "Exercise 01 of the course 01ZLMA. \n",
    "\n",
    "## Contents\n",
    "\n",
    "\n",
    "*   Recap of multivariable linear regression (FJFI course 01RAD)\n",
    "*   Discussion about organizational/run of the course\n",
    "*   Introdaction into Google colab notebooks (R version https://colab.to/r or Python versions)\n"
   ]
  },
  {
   "cell_type": "markdown",
   "metadata": {
    "id": "593Mg4ZbbeEE"
   },
   "source": [
    "To load required libraries (with R runtime type):\n"
   ]
  },
  {
   "cell_type": "code",
   "execution_count": null,
   "metadata": {
    "id": "wV3e4NaLbVZg"
   },
   "outputs": [],
   "source": [
    "#install.packages(\"car\")\n",
    "#install.packages(\"reactable\")\n",
    "#install.packages(\"GGally\")\n",
    "#install.packages(\"pander\")\n",
    "#library(car)\n",
    "library(tidyverse)\n",
    "library(MASS)\n",
    "library(knitr)\n",
    "\n",
    "#library(pander)\n",
    "\n",
    "library(GGally)\n",
    "library(reactable)\n",
    "library(gridExtra)\n",
    "\n",
    "\n",
    "#For sure: set dplyr functions\n",
    "select    <- dplyr::select;\n",
    "rename    <- dplyr::rename;\n",
    "mutate    <- dplyr::mutate; \n",
    "summarize <- dplyr::summarize;\n",
    "arrange   <- dplyr::arrange;\n",
    "slice     <- dplyr::slice;\n",
    "filter    <- dplyr::filter;\n",
    "recode    <- dplyr::recode\n"
   ]
  },
  {
   "cell_type": "markdown",
   "metadata": {
    "id": "T-6BZFrl5czN"
   },
   "source": [
    "Your workong directory is in the cloud. You can mount your Google drive, or your local hard drive\n",
    "(https://stackoverflow.com/questions/56679549/how-to-mount-google-drive-to-r-notebook-in-colab)\n",
    " (https://github.com/katewall/medium_tutorials/blob/main/210630_Medium_ColabwithR.ipynb). "
   ]
  },
  {
   "cell_type": "code",
   "execution_count": null,
   "metadata": {
    "id": "M3zV9lc_bo7c"
   },
   "outputs": [],
   "source": [
    "R.version.string\n",
    "getwd()"
   ]
  },
  {
   "cell_type": "markdown",
   "metadata": {
    "id": "bM3KoIrg61Sh"
   },
   "source": [
    "## Regression analysis\n"
   ]
  },
  {
   "cell_type": "markdown",
   "metadata": {
    "id": "-S5C0VCJgOTG"
   },
   "source": [
    "### Fish Catch Dataset\n",
    "\n",
    "159 fishes of 7 species are caught and measured. Altogether there are\n",
    "8 variables.  All the fishes are caught from the same lake\n",
    "(Laengelmavesi) near Tampere in Finland.\n",
    "\n",
    "SOURCES:\n",
    "Brofeldt, Pekka: Bidrag till kaennedom on fiskbestondet i vaera\n",
    "        sjoear. Laengelmaevesi. T.H.Jaervi: Finlands Fiskeriet  Band 4,\n",
    "        Meddelanden utgivna av fiskerifoereningen i Finland.\n",
    "        Helsingfors 1917\n",
    "\n",
    "VARIABLE DESCRIPTIONS:\n",
    "\n",
    "1.  Obs       Observation number ranges from 1 to 159\n",
    "2.  Species   (Numeric)\n",
    "        Code Finnish  Swedish    English        Latin      \n",
    "         1   Lahna    Braxen     Bream          Abramis brama\n",
    "         2   Siika    Iiden      Whitewish      Leusiscus idus\n",
    "         3   Saerki   Moerten    Roach          Leuciscus rutilus\n",
    "         4   Parkki   Bjoerknan  Blicca         Abramis bjrkna\n",
    "         5   Norssi   Norssen    Smelt          Osmerus eperlanus\n",
    "         6   Hauki    Jaedda     Pike           Esox lucius\n",
    "         7   Ahven    Abborre    Perch          Perca fluviatilis\n",
    "\n",
    "3.  Weight      Weight of the fish (in grams)\n",
    "4.  Length1     Length from the nose to the beginning of the tail (in cm)\n",
    "5.  Length2     Length from the nose to the notch of the tail (in cm)\n",
    "6.  Length3     Length from the nose to the end of the tail (in cm)\n",
    "7.  Height%     Maximal height as % of Length3\n",
    "8.  Width%      Maximal width as % of Length3\n",
    "9.  Sex         1 = male 0 = female\n",
    "\n"
   ]
  },
  {
   "cell_type": "code",
   "execution_count": null,
   "metadata": {
    "id": "5fOEovcZip-i"
   },
   "outputs": [],
   "source": [
    "#@title Read dataset (without colnames)\n",
    "fishcatch <- read.table(\"http://jse.amstat.org/datasets/fishcatch.dat.txt\") %>%\n",
    "  rename(Obs =V1,\n",
    "         Species = V2,\n",
    "         Weight = V3,\n",
    "         Len1 = V4,\n",
    "         Len2 = V5,\n",
    "         Len3 = V6,\n",
    "         Height = V7,\n",
    "         Width = V8,\n",
    "         Sex = V9\n",
    "         )"
   ]
  },
  {
   "cell_type": "code",
   "execution_count": null,
   "metadata": {
    "id": "8JTGUA2ff7vu"
   },
   "outputs": [],
   "source": [
    "head(fishcatch)\n",
    "fishcatch %>% \n",
    "   summary() %>%\n",
    "   kable(format = \"pipe\")\n",
    "    \n"
   ]
  },
  {
   "cell_type": "markdown",
   "metadata": {
    "id": "bxGxzvUO1fwV"
   },
   "source": [
    "|   |     Obs      |   Species    |    Weight     |     Len1     |     Len2     |     Len3     |    Height    |    Width     |     Sex       |\n",
    "|:--|:-------------|:-------------|:--------------|:-------------|:-------------|:-------------|:-------------|:-------------|:--------------|\n",
    "|   |Min.   :  1.0 |Min.   :1.000 |Min.   :   0.0 |Min.   : 7.50 |Min.   : 8.40 |Min.   : 8.80 |Min.   :14.50 |Min.   : 8.70 |Min.   :0.0000 |\n",
    "|   |1st Qu.: 40.5 |1st Qu.:2.000 |1st Qu.: 120.0 |1st Qu.:19.05 |1st Qu.:21.00 |1st Qu.:23.15 |1st Qu.:24.25 |1st Qu.:13.40 |1st Qu.:0.0000 |\n",
    "|   |Median : 80.0 |Median :5.000 |Median : 272.5 |Median :25.20 |Median :27.30 |Median :29.40 |Median :27.10 |Median :14.60 |Median :0.0000 |\n",
    "|   |Mean   : 80.0 |Mean   :4.497 |Mean   : 398.7 |Mean   :26.25 |Mean   :28.42 |Mean   :31.23 |Mean   :28.31 |Mean   :14.12 |Mean   :0.2361 |\n",
    "|   |3rd Qu.:119.5 |3rd Qu.:7.000 |3rd Qu.: 650.0 |3rd Qu.:32.70 |3rd Qu.:35.50 |3rd Qu.:39.65 |3rd Qu.:37.60 |3rd Qu.:15.30 |3rd Qu.:0.0000 |\n",
    "|   |Max.   :159.0 |Max.   :7.000 |Max.   :1650.0 |Max.   :59.00 |Max.   :63.40 |Max.   :68.00 |Max.   :44.50 |Max.   :20.90 |Max.   :1.0000 |\n",
    "|   |NA            |NA            |NA's   :1      |NA            |NA            |NA            |NA            |NA            |NA's   :87     |"
   ]
  },
  {
   "cell_type": "code",
   "execution_count": null,
   "metadata": {
    "id": "saPMQbm37riw"
   },
   "outputs": [],
   "source": [
    "#reactable(fishcatch)"
   ]
  },
  {
   "cell_type": "code",
   "execution_count": null,
   "metadata": {
    "id": "39BpkMyv2HIZ"
   },
   "outputs": [],
   "source": [
    "mutate_cond <- function(.data, condition, ..., envir = parent.frame()) {\n",
    "  condition <- eval(substitute(condition), .data, envir)\n",
    "  .data[condition, ] <- .data[condition, ] %>% mutate(...)\n",
    "  .data\n",
    "}"
   ]
  },
  {
   "cell_type": "code",
   "execution_count": null,
   "metadata": {
    "id": "Xdpgc0ijh2OL"
   },
   "outputs": [],
   "source": [
    "fish <- fishcatch %>%\n",
    "  drop_na(Weight) %>% \n",
    "  mutate_cond(is.na(Sex), Sex = \"unknown\") %>%\n",
    "  mutate(Sex = as.factor(Sex)) %>%\n",
    "  mutate(Sex = recode(Sex,\"1\" = \"male\", \"0\" = \"female\")) %>%\n",
    "  mutate(Species = factor(Species)) %>%\n",
    "  select(-Obs)\n",
    "fish %>% summary() %>% kable()\n"
   ]
  },
  {
   "cell_type": "code",
   "execution_count": null,
   "metadata": {
    "id": "hV45IeoNhwWn"
   },
   "outputs": [],
   "source": [
    "options(jupyter.plot_scale=0.8)\n",
    "options(warn=-1)\n",
    "\n",
    "fish %>% ggpairs(., legend = 1, columns = 2:8,\n",
    "                   aes(color = Species),\n",
    "                   upper = list(continuous = wrap(\"cor\", size=2)),\n",
    "                   lower = list(continuous = wrap(\"points\", alpha = 0.3,    size=0.4)))+                 \n",
    "  theme(legend.position = \"bottom\") + \n",
    "  labs(color = \"Engine Type\")"
   ]
  },
  {
   "cell_type": "code",
   "execution_count": null,
   "metadata": {
    "id": "puy8w9nOrUlz"
   },
   "outputs": [],
   "source": [
    "plot1 <- ggplot(fish %>% mutate(Species = as.factor(Species)),\n",
    "                         aes(x=Species, y=Weight, fill=Sex)) +\n",
    "  geom_boxplot(size = 1, notch = F) +\n",
    "  geom_jitter(aes(Species,Weight),\n",
    "              position=position_jitter(width=0.1,height=0),\n",
    "              alpha=0.5,\n",
    "              size=0.8,\n",
    "              show.legend=F)+\n",
    "  labs(title=\"Weight vs Species\", y=\"Weight\", x=\"Species\") +\n",
    "  theme_bw() +  \n",
    "  labs(title=\"Weight vs Species\",\n",
    "       subtitle=\"Distinguish between Sex\",\n",
    "       caption=\"version: 001\") \n",
    "plot1"
   ]
  },
  {
   "cell_type": "code",
   "execution_count": null,
   "metadata": {
    "id": "qeLS6RkCrMX4"
   },
   "outputs": [],
   "source": [
    "options(repr.plot.width = 6, repr.plot.height = 3)\n",
    "\n",
    "ggplot(fish, aes(x=Sex, y=Weight)) +\n",
    "  geom_boxplot(size = 1, notch = F) +\n",
    "  geom_jitter(aes(Sex,Weight),\n",
    "              position=position_jitter(width=0.1,height=0),\n",
    "              alpha=0.5,\n",
    "              size=0.8,\n",
    "              show.legend=F)+\n",
    "  theme_bw()  \n"
   ]
  },
  {
   "cell_type": "markdown",
   "metadata": {
    "id": "BVabzuja4s8g"
   },
   "source": [
    "# Your turn 01\n",
    "\n",
    "* Recode Species, instead numeric use fish names.\n",
    "* Which variables look promising, which variables can be omitted.\n",
    "* Edit the dataset\n",
    "* Plot Height vs. Weight, Leng3 vs. Weight, Width vs. Weight"
   ]
  },
  {
   "cell_type": "markdown",
   "metadata": {
    "id": "7cX82QXe2hwG"
   },
   "source": [
    "# Regression\n"
   ]
  },
  {
   "cell_type": "markdown",
   "metadata": {
    "id": "Qr9eBAOI2oqf"
   },
   "source": [
    "..."
   ]
  },
  {
   "cell_type": "code",
   "execution_count": null,
   "metadata": {
    "id": "H5N9r21YIm2E"
   },
   "outputs": [],
   "source": [
    "summary(fish)"
   ]
  },
  {
   "cell_type": "code",
   "execution_count": null,
   "metadata": {
    "id": "iIslM_OA3AgM"
   },
   "outputs": [],
   "source": [
    "Fish <- fish %>%\n",
    "  filter(Species %in% c(1,3,7)) %>%\n",
    "  mutate(Species = recode(Species,\"1\" = \"Bream\",\n",
    "                                  \"2\" = \"Whitewish\",\n",
    "                                  \"3\" = \"Roach\",\n",
    "                                  \"4\" = \"Blicca\",\n",
    "                                  \"5\" = \"Smelt\",\n",
    "                                  \"6\" = \"Pike\",\n",
    "                                  \"7\" = \"Perch\")) %>%\n",
    "  mutate(Species = fct_drop(Species))%>%                            \n",
    "  select(-Sex) %>%\n",
    "  filter(Weight != 0)\n",
    "head(Fish)\n",
    "summary(Fish)"
   ]
  },
  {
   "cell_type": "code",
   "execution_count": null,
   "metadata": {
    "id": "rrOhtjuhhX21"
   },
   "outputs": [],
   "source": [
    "options(repr.plot.width = 15, repr.plot.height = 5, repr.plot.res = 90)\n",
    "\n",
    "Fish <- Fish %>% mutate(Height = Height*Len3,\n",
    "                        Width = Width*Len3)\n",
    "\n",
    "Height_Weight <- ggplot(Fish,aes(x=Height,y=Weight,col=Species))+\n",
    "                 geom_point(size=5,alpha=0.6)+\n",
    "                 geom_smooth(col=\"grey40\",method = \"lm\",se=F,lty=\"dashed\",lwd=2,formula=\"y~x\")\n",
    "\n",
    "LengthV_Weight <- ggplot(Fish,aes(x=Len3,y=Weight,col=Species))+\n",
    "                  geom_point(size=5,alpha=0.6)+\n",
    "                  geom_smooth(col=\"grey40\",method = \"lm\",se=F,lty=\"dashed\",lwd=2,formula=\"y~x\")\n",
    "\n",
    "Width_Weight <- ggplot(Fish,aes(x=Width,y=Weight,col=Species))+\n",
    "                 geom_point(size=5,alpha=0.6)+\n",
    "                 geom_smooth(col=\"grey40\",method = \"lm\",se=F,lty=\"dashed\",lwd=2,formula=\"y~x\")\n",
    "\n",
    "#Height_Weight\n",
    "#LengthV_Weight\n",
    "#Width_Weight\n",
    "\n",
    "grid.arrange(Height_Weight, LengthV_Weight, Width_Weight, ncol = 3)"
   ]
  },
  {
   "cell_type": "code",
   "execution_count": null,
   "metadata": {
    "id": "eirqitI7hsuW"
   },
   "outputs": [],
   "source": [
    "Height_Weight_log <- ggplot(Fish,aes(x=log(Width),y=log(Weight),col=Species))+\n",
    "                 geom_point(size=5,alpha=0.6)+\n",
    "                 geom_smooth(col=\"grey40\",method = \"lm\",se=F,lty=\"dashed\",lwd=2,,formula=\"y~x\")\n",
    "\n",
    "LengthV_Weight_log <- ggplot(Fish,aes(x=log(Len3),y=log(Weight),col=Species))+\n",
    "                  geom_point(size=5,alpha=0.6)+\n",
    "                  geom_smooth(col=\"grey40\",method = \"lm\",se=F,lty=\"dashed\",lwd=2,,formula=\"y~x\")\n",
    "\n",
    "Width_Weight_log  <- ggplot(Fish,aes(x=log(Height),y=log(Weight),col=Species))+\n",
    "                 geom_point(size=5,alpha=0.6)+\n",
    "                 geom_smooth(col=\"grey40\",method = \"lm\",se=F,lty=\"dashed\",lwd=2,,formula=\"y~x\")\n",
    "\n",
    "\n",
    "grid.arrange(Height_Weight_log, LengthV_Weight_log, Width_Weight_log, ncol = 3)\n"
   ]
  },
  {
   "cell_type": "code",
   "execution_count": null,
   "metadata": {
    "id": "fG957pwr2plZ"
   },
   "outputs": [],
   "source": [
    "# Model with all variables and interaction till 2rd order ... \n",
    "m0  <- lm(Weight ~ (.)^2, data = Fish)\n",
    "summary(m0)\n",
    "# Ufff "
   ]
  },
  {
   "cell_type": "markdown",
   "metadata": {
    "id": "NK2ZeOGr_TMt"
   },
   "source": [
    "Q: \n",
    "* How can you interpret previous result?\n",
    "* Comment and discussion: how to select model.\n"
   ]
  },
  {
   "cell_type": "code",
   "execution_count": null,
   "metadata": {
    "id": "2td-VSXl2pyR"
   },
   "outputs": [],
   "source": [
    "m0_BIC  <- stepAIC(m0, k=log(dim(Fish)[1]))\n",
    "\n",
    "\n",
    "m0_AIC  <- stepAIC(m0)\n",
    "summary(m0_BIC)\n",
    "summary(m0_AIC)"
   ]
  },
  {
   "cell_type": "code",
   "execution_count": null,
   "metadata": {
    "id": "SLfBUdVa8HM7"
   },
   "outputs": [],
   "source": [
    "install.packages(\"leaps\")\n",
    "library(leaps)"
   ]
  },
  {
   "cell_type": "code",
   "execution_count": null,
   "metadata": {
    "id": "WV1NbtLLPO5c"
   },
   "outputs": [],
   "source": [
    "best_subset <- regsubsets(Weight ~ (.)^2, Fish, nvmax = 20,really.big=T)\n",
    "results <- summary(best_subset)\n",
    "plot(best_subset)\n"
   ]
  },
  {
   "cell_type": "code",
   "execution_count": null,
   "metadata": {
    "id": "uOltPny79x-x"
   },
   "outputs": [],
   "source": [
    "#  plot results\n",
    "# source: https://afit-r.github.io/model_selection\n",
    "tibble(predictors = 1:20,\n",
    "       adj_R2 = results$adjr2,\n",
    "       Cp = results$cp,\n",
    "       BIC = results$bic) %>%\n",
    "  gather(statistic, value, -predictors) %>%\n",
    "  ggplot(aes(predictors, value, color = statistic)) +\n",
    "  geom_line(show.legend = F) +\n",
    "  geom_point(show.legend = F) +\n",
    "  facet_wrap(~ statistic, scales = \"free\")"
   ]
  },
  {
   "cell_type": "markdown",
   "metadata": {
    "id": "_1vEsmhFHv7e"
   },
   "source": [
    "# Your turn 02\n",
    "\n",
    "* Is there problem with multicolinearity? If so, how can we cope with it.\n",
    "* Try to find such a good model (based on adjuste R^2) with a maximum of 7 covariates. \n",
    "\n",
    "Hint: try to use expert knowledge.\n"
   ]
  },
  {
   "cell_type": "code",
   "execution_count": null,
   "metadata": {
    "id": "Ksf2j2Wp-qQ2"
   },
   "outputs": [],
   "source": [
    "m1 <- lm(Weight ~ (.), data = Fish)\n",
    "summary(m1)"
   ]
  },
  {
   "cell_type": "code",
   "execution_count": null,
   "metadata": {
    "id": "0NMpGEnYTYvC"
   },
   "outputs": [],
   "source": [
    "# VIF\n",
    "1/(1-(summary(lm(Len1 ~.,data = Fish %>% select(-Weight)))$r.squared))\n",
    "1/(1-(summary(lm(Len2 ~.,data = Fish %>% select(-Weight)))$r.squared))\n",
    "1/(1-(summary(lm(Len3 ~.,data = Fish %>% select(-Weight)))$r.squared))\n",
    "1/(1-(summary(lm(Height ~.,data = Fish %>% select(-Weight)))$r.squared))\n",
    "1/(1-(summary(lm(Width  ~.,data = Fish %>% select(-Weight)))$r.squared))"
   ]
  },
  {
   "cell_type": "code",
   "execution_count": null,
   "metadata": {
    "id": "uocAXEacSXQa"
   },
   "outputs": [],
   "source": [
    "kappa(scale(data.matrix(Fish)))\n",
    "kappa(scale(data.matrix(Fish %>% select(-Len1,-Len2))))"
   ]
  },
  {
   "cell_type": "code",
   "execution_count": null,
   "metadata": {
    "id": "ghkV54Z5HtML"
   },
   "outputs": [],
   "source": [
    "m1 <- lm(Weight ~ Species+Len2:Len3:Height+Len2:Len3:Width, data = Fish)\n",
    "summary(m1)"
   ]
  },
  {
   "cell_type": "code",
   "execution_count": null,
   "metadata": {
    "id": "6aLWsTKiaPyF"
   },
   "outputs": [],
   "source": [
    "options(repr.plot.width = 10, repr.plot.height = 5, repr.plot.res = 90)\n",
    "\n",
    "par(mfrow = c(2, 2))\n",
    "plot(m1, pch = 20, col = \"blue4\", lwd = 2)\n"
   ]
  },
  {
   "cell_type": "code",
   "execution_count": null,
   "metadata": {
    "id": "3XCEre_fZ6za"
   },
   "outputs": [],
   "source": [
    "log_m1 <- lm(log(Weight) ~ Species+Len2:Len3:Height+Len2:Len3:Width, data = Fish)\n",
    "summary(log_m1)"
   ]
  },
  {
   "cell_type": "code",
   "execution_count": null,
   "metadata": {
    "id": "M58dsdGEZ7W7"
   },
   "outputs": [],
   "source": [
    "par(mfrow = c(2, 2))\n",
    "plot(log_m1, pch = 20, col = \"blue4\", lwd = 2)\n"
   ]
  },
  {
   "cell_type": "code",
   "execution_count": null,
   "metadata": {
    "id": "qfUjLFC4bX1O"
   },
   "outputs": [],
   "source": [
    "log_m1 <- lm(log(Weight) ~ Species+Len2:Len3:Height+Len2:Len3:Width, data = Fish[-54,])\n",
    "par(mfrow = c(2, 2))\n",
    "plot(log_m1, pch = 20, col = \"blue4\", lwd = 2)\n"
   ]
  },
  {
   "cell_type": "code",
   "execution_count": null,
   "metadata": {
    "id": "Kd5OCMR_bXTG"
   },
   "outputs": [],
   "source": [
    "# Box-Cox transformation\n",
    "BC_m0  <- lm(Weight ~ Species+I(Len3^2) +Len3:Height:Width, data = Fish)\n",
    "summary(BC_m0)\n",
    "bc     <- boxcox(m1, lambda = seq(-1,1 , 1/100))\n",
    "lambda <- bc$x[which.max(bc$y)]\n",
    "lambda"
   ]
  },
  {
   "cell_type": "code",
   "execution_count": null,
   "metadata": {
    "id": "XBxCEVplbsKg"
   },
   "outputs": [],
   "source": [
    "BC_m1 <- lm(Weight^(1/2) ~ Species+I(Len3^2) + Len3:Height+Len3:Width, data = Fish)\n",
    "summary(BC_m1)\n",
    "\n",
    "#Fish$Weight_lambda = (Fish$Weight^lambda-1)/lambda\n",
    "#BC_m1 <- lm(Weight_lambda  ~ Species+I(Len3^2) + Len3:Height+Len3:Width, data = Fish)\n",
    "\n",
    "summary(BC_m1)\n",
    "par(mfrow = c(2, 2))\n",
    "plot(BC_m1, pch = 20, col = \"blue4\", lwd = 2)\n"
   ]
  },
  {
   "cell_type": "code",
   "execution_count": null,
   "metadata": {
    "id": "J8pFt13Ug_d9"
   },
   "outputs": [],
   "source": [
    "#install.packages(\"pbkrtest\")\n",
    "#install.packages(\"lme4\")\n",
    "#install.packages(\"RcppEigen\")\n",
    "#install.packages(\"car\")\n",
    "#library(car)"
   ]
  },
  {
   "cell_type": "code",
   "execution_count": null,
   "metadata": {
    "id": "FRJqJRM6g_pE"
   },
   "outputs": [],
   "source": [
    "m_f <- lm(log(Weight) ~ Species+log(Len3)*log(Height)*log(Width), data = Fish[-54,])\n",
    "summary(m_f)\n",
    "\n",
    "#Fish$Weight_lambda = (Fish$Weight^lambda-1)/lambda\n",
    "#BC_m1 <- lm(Weight_lambda  ~ Species+I(Len3^2) + Len3:Height+Len3:Width, data = Fish)\n",
    "\n",
    "summary(m_f)\n",
    "par(mfrow = c(2, 2))\n",
    "plot(m_f, pch = 20, col = \"blue4\", lwd = 2)\n"
   ]
  },
  {
   "cell_type": "code",
   "execution_count": null,
   "metadata": {
    "id": "rAm8WTd8k9UR"
   },
   "outputs": [],
   "source": []
  }
 ],
 "metadata": {
  "colab": {
   "authorship_tag": "ABX9TyO9CU7eiZEzmmgLRC7zYKBm",
   "collapsed_sections": [],
   "include_colab_link": true,
   "name": "01ZLMA_ex01.ipynb",
   "private_outputs": true,
   "provenance": []
  },
  "kernelspec": {
   "display_name": "Python 3 (ipykernel)",
   "language": "python",
   "name": "python3"
  },
  "language_info": {
   "codemirror_mode": {
    "name": "ipython",
    "version": 3
   },
   "file_extension": ".py",
   "mimetype": "text/x-python",
   "name": "python",
   "nbconvert_exporter": "python",
   "pygments_lexer": "ipython3",
   "version": "3.8.12"
  }
 },
 "nbformat": 4,
 "nbformat_minor": 1
}
